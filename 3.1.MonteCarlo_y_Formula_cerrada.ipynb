{
  "cells": [
    {
      "cell_type": "markdown",
      "metadata": {
        "id": "AnOpCU41MpLP"
      },
      "source": [
        "## Simulación de MonteCarlo"
      ]
    },
    {
      "cell_type": "code",
      "execution_count": 1,
      "metadata": {},
      "outputs": [],
      "source": [
        "import pandas as pd\n",
        "import numpy as np\n",
        "from numpy.linalg import cholesky"
      ]
    },
    {
      "cell_type": "code",
      "execution_count": 2,
      "metadata": {},
      "outputs": [
        {
          "name": "stdout",
          "output_type": "stream",
          "text": [
            "Matriz de correlaciones:\n",
            " [[1.         0.40273855 0.72089394]\n",
            " [0.40273855 1.         0.4063413 ]\n",
            " [0.72089394 0.4063413  1.        ]]\n",
            "Volatilidades anualizadas: [0.34008671 0.3430685  0.30625337]\n",
            "Precios iniciales: [137.27000427 216.71000671 271.6000061 ]\n"
          ]
        }
      ],
      "source": [
        "prec =  pd.read_csv(\"Datos/Transformados/cartera.csv\", index_col=0)\n",
        "prec.index = pd.to_datetime(prec.index)\n",
        "precios = prec[['AAPL','CAT','MSFT']]\n",
        "ret_simple = precios.pct_change().dropna()\n",
        "ret_log = np.log(precios / precios.shift(1)).dropna()\n",
        "rend = ret_log\n",
        "corr_matrix = rend.corr().values\n",
        "print(\"Matriz de correlaciones:\\n\", corr_matrix)\n",
        "sigma_daily = rend.std().values\n",
        "sigmas = sigma_daily * np.sqrt(252)\n",
        "print(\"Volatilidades anualizadas:\", sigmas)\n",
        "S0 = precios.iloc[-1].values\n",
        "print(\"Precios iniciales:\", S0)"
      ]
    },
    {
      "cell_type": "code",
      "execution_count": 5,
      "metadata": {
        "id": "I85TjGgVGZNF"
      },
      "outputs": [],
      "source": [
        "def MonteCarlo(initial_maturity, S_0, num_sims, num_assets, num_asian_dates, value_date_index, correl_matrix,risk_free_rate, vols):\n",
        "    '''\n",
        "  Inputs:\n",
        "  -------\n",
        "  * S_0 (float): initial spot prices of the assets\n",
        "  * num_asian_dates (int): number of asian dates. Notice that this includes the initial date, which fixes the initial spot values.\n",
        "  * value_date_index (int): index, within the array of asian dates indicating the value date. (Actual step)\n",
        "  * risk_free_rate (float): risk free rate\n",
        "  * num_assets (int): number of underlying assets.\n",
        "  * vols (array(float)): array of indiv assets vols.\n",
        "  * correl_matrix (array(float, float)): matrix of correlations\n",
        "  * initial_maturity (float): maturity of the product as seen on initial spot fixing date. (Years)\n",
        "  * num_sims (int): number of simulations\n",
        "  Outputs:\n",
        "  --------\n",
        "  * rets (numpy.ndarray): simulation of the evolution of the assets. Shape (num_sims, num_asian_dates-1, num_assets)\n",
        "  * payoff (numpy.ndarray): Payoff of every simulation done. Shape (num_sims, )\n",
        "  * premium (numpy.float64): present value in the actual step given by value_date_index.\n",
        "  '''\n",
        "\n",
        "    # Inputs:\n",
        "\n",
        "    # Simulation of assets up to value date:\n",
        "\n",
        "    init_time_array = np.linspace(0, initial_maturity, num_asian_dates)\n",
        "\n",
        "    delta_t = initial_maturity / (num_asian_dates - 1)\n",
        "    num_steps = value_date_index\n",
        "    num_remaining_steps = num_asian_dates - value_date_index -1\n",
        "\n",
        "    # Independent brownians\n",
        "    inc_W = np.random.normal(size=(num_assets, num_steps), scale = np.sqrt(delta_t))\n",
        "\n",
        "    # Cholesky matrix\n",
        "    m = cholesky(correl_matrix)\n",
        "\n",
        "    # Correlated brownians\n",
        "    inc_W_correl = np.matmul(m, inc_W)\n",
        "\n",
        "    # Independent brownian motion (the axis order is done to be able to correlate them with a matrix multiplication)\n",
        "    inc_W_remaining = np.random.normal(size=(num_sims, num_remaining_steps, num_assets), scale = np.sqrt(delta_t))\n",
        "\n",
        "    # We correlate them\n",
        "    inc_W_correl_remaining = np.matmul(inc_W_remaining, m.T)\n",
        "\n",
        "    # We transpose the 3D matrix of correlated B. motion (path, asset, time step)\n",
        "\n",
        "    inc_W_correl_remaining = inc_W_correl_remaining.transpose([0,2,1])\n",
        "\n",
        "    aux = np.repeat(inc_W_correl[None,...],num_sims,axis=0)\n",
        "\n",
        "    # We attach the brownians obtained from t= 0 to value date\n",
        "\n",
        "    inc_W_correl_total = np.concatenate((aux, inc_W_correl_remaining), axis = 2)\n",
        "\n",
        "    # We compute exponential returns\n",
        "\n",
        "    gross_rets_total = np.exp((risk_free_rate - 0.5 *vols **2) * delta_t + vols * inc_W_correl_total)\n",
        "\n",
        "    # We simulate the underlyings\n",
        "\n",
        "    S_T = np.cumprod(np.concatenate((np.repeat(S_0.reshape(-1,1)[None,...],num_sims,axis=0), gross_rets_total), axis = 2), axis = 2)\n",
        "\n",
        "    # We compute the returns\n",
        "\n",
        "    rets = S_T[:,:,1:] / np.repeat(S_0.reshape(-1,1)[None,...],num_sims,axis=0)\n",
        "\n",
        "    payoff = np.maximum(np.sum(np.prod(rets, axis = (2))**(1/(num_assets * (num_asian_dates-1))), axis = 1)-3,0)\n",
        "\n",
        "    # Calculate the premium as the discounted average value\n",
        "\n",
        "    premium = np.mean(payoff*np.exp(-risk_free_rate*(initial_maturity-init_time_array[value_date_index])))\n",
        "\n",
        "    rets = rets.transpose([0,2,1])\n",
        "\n",
        "    return rets, payoff, premium"
      ]
    },
    {
      "cell_type": "code",
      "execution_count": 93,
      "metadata": {
        "id": "Jbw7ezb2HI-9"
      },
      "outputs": [],
      "source": [
        "S_0 = np.array([1,1,1])\n",
        "num_steps = 20\n",
        "vols = np.array(sigmas).reshape(-1,1)\n",
        "risk_free_rate = 0.01\n",
        "\n",
        "\n",
        "TTM = initial_maturity = 5 #years\n",
        "value_date_index = 5 #actual step\n",
        "num_asian_dates = num_steps + 1 #Time steps + 1\n",
        "init_time_array = np.linspace(0, initial_maturity, num_asian_dates)\n",
        "\n",
        "rho = 0.1\n",
        "correl_matrix = rho = np.array(corr_matrix)\n",
        "\n",
        "num_sims = 100000\n",
        "\n",
        "num_assets = 3 #numero de activos\n",
        "\n",
        "rets, payoff, premium = MonteCarlo(initial_maturity, S_0, num_sims, num_assets, num_asian_dates, value_date_index, correl_matrix,risk_free_rate, vols)"
      ]
    },
    {
      "cell_type": "code",
      "execution_count": 94,
      "metadata": {},
      "outputs": [
        {
          "data": {
            "text/plain": [
              "0.13481989444535647"
            ]
          },
          "execution_count": 94,
          "metadata": {},
          "output_type": "execute_result"
        }
      ],
      "source": [
        "premium"
      ]
    },
    {
      "cell_type": "code",
      "execution_count": 95,
      "metadata": {},
      "outputs": [
        {
          "data": {
            "text/plain": [
              "0.38855"
            ]
          },
          "execution_count": 95,
          "metadata": {},
          "output_type": "execute_result"
        }
      ],
      "source": [
        "len(payoff[payoff == 0])/len(payoff)"
      ]
    },
    {
      "cell_type": "code",
      "execution_count": null,
      "metadata": {},
      "outputs": [],
      "source": [
        "#np.savez_compressed('Datos/Transformados/montecarlo_data.npz', features=rets, target=payoff)"
      ]
    },
    {
      "cell_type": "markdown",
      "metadata": {
        "id": "IFtar3mXMTuv"
      },
      "source": [
        "### Valor presente\n",
        "\n",
        "Dados todos los timesteps:"
      ]
    },
    {
      "cell_type": "code",
      "execution_count": 73,
      "metadata": {
        "id": "XmeG_pLmHWB8"
      },
      "outputs": [
        {
          "data": {
            "text/plain": [
              "array([[0.07413871, 0.07433407, 0.07452994, ..., 0.07753075, 0.07773505,\n",
              "        0.07793988],\n",
              "       [0.        , 0.        , 0.        , ..., 0.        , 0.        ,\n",
              "        0.        ],\n",
              "       [0.07832657, 0.07853297, 0.0787399 , ..., 0.08191022, 0.08212605,\n",
              "        0.08234246],\n",
              "       ...,\n",
              "       [0.        , 0.        , 0.        , ..., 0.        , 0.        ,\n",
              "        0.        ],\n",
              "       [0.        , 0.        , 0.        , ..., 0.        , 0.        ,\n",
              "        0.        ],\n",
              "       [0.        , 0.        , 0.        , ..., 0.        , 0.        ,\n",
              "        0.        ]])"
            ]
          },
          "execution_count": 73,
          "metadata": {},
          "output_type": "execute_result"
        }
      ],
      "source": [
        "#present_value (numpy.ndarray): present value of the payoff in every time step. Shape (num_sims, num_asian_dates-1)\n",
        "\n",
        "time_array = np.linspace(0, initial_maturity, num_steps)\n",
        "\n",
        "present_value = np.matmul(payoff.reshape(-1,1),np.exp(- risk_free_rate*(initial_maturity-time_array )).reshape(1,-1))\n",
        "present_value"
      ]
    },
    {
      "cell_type": "markdown",
      "metadata": {
        "id": "Rw1VXLWlGkHm"
      },
      "source": [
        "## Formula cerrada\n",
        "\n",
        "Let's assume that:\n",
        "\n",
        "$$S_T^j=S_t^j\\exp\\left(\\left(r-\\sigma_j^2/2\\right)\\left(t_n-t\\right)+\\sigma_i\\left(W^j_T-W^j_t\\right)\\right)$$\n",
        "\n",
        "And that the different underlyings are correlated with correlations $\\rho_{ij}$.\n",
        "\n",
        "We are interested in the following expected value\n",
        "\n",
        "$$V_{t_v}=E\\left[\\left(\\left(\\prod_{i=1}^{n}\\prod_{j=1}^{m}\\frac{S_{t_i}^j}{S_{t_0}^j}\\right)^{\\frac{1}{nm}}-1\\right)^+\\exp\\left(-r\\left(t_n-t_v\\right)\\right)\\Bigg{|}\\mathcal{F}_{t_v}\\right]$$\n",
        "\n",
        "Where $\\mathcal{F}_t$ represents that $S^j_{t_i}$ has been observed $\\forall j$ and $t_i,\\ \\ i=0,\\ldots,v$\n",
        "\n",
        "\n",
        "$$V_{t_v}=E\\left[\\left(\\left(\\prod_{i=1}^{v}\\prod_{j=1}^{m}\\frac{S_{t_i}^j}{S_{t_0}^j}\\right)^{\\frac{1}{nm}}\\left(\\prod_{i=v+1}^{n}\\prod_{j=1}^{m}\\frac{S_{t_i}^j}{S_{t_0}^j}\\right)^{\\frac{1}{nm}}-1\\right)^+\\exp\\left(-r\\left(t_n-t_v\\right)\\right)\\Bigg{|}\\mathcal{F}_{t_v}\\right]$$\n",
        "\n",
        "Conditioned on $\\mathcal{F}_t$, the term $\\prod_{i=v+1}^{n}\\prod_{j=1}^{m}\\frac{S_{t_i}^j}{S_{t_0}^j}$ is the only stochastic term inside the expected value. Since under Black Scholes dynamics this term is the product of variables lognormally distributed, it is itself lognormal. Therefore, in order to derive the expression of the expected value we should derive the expression of the expected value and the variance of the logarithm of this term.\n"
      ]
    },
    {
      "cell_type": "code",
      "execution_count": 4,
      "metadata": {
        "id": "O1452_L0GlFM"
      },
      "outputs": [],
      "source": [
        "from scipy.stats import norm\n",
        "\n",
        "N = norm.cdf\n",
        "\n",
        "def Black(Forward, Strike, TTM, rate, Vol, IsCall):\n",
        "\n",
        "  '''\n",
        "  Inputs:\n",
        "  -------\n",
        "    Forward (float): Forward value\n",
        "    Strike (float): strike price\n",
        "    TTM (float): time to maturity in years\n",
        "    rate (float): risk free rate\n",
        "    Vol (float): volatility\n",
        "    IsCall (bool): True if call option, False if put option\n",
        "  Outputs:\n",
        "  --------\n",
        "    Option premium (float)\n",
        "  '''\n",
        "\n",
        "  if TTM >0:\n",
        "\n",
        "    d1 = (np.log(Forward/Strike) + (Vol*Vol/2)*TTM)/(Vol*np.sqrt(TTM))\n",
        "    d2 = (np.log(Forward/Strike) + (- Vol*Vol/2)*TTM)/(Vol*np.sqrt(TTM))\n",
        "\n",
        "    if IsCall:\n",
        "\n",
        "      return (Forward*N(d1)-Strike*N(d2))*np.exp(-rate*TTM)\n",
        "\n",
        "    else:\n",
        "\n",
        "      return (-Forward*N(-d1)+Strike*N(-d2))*np.exp(-rate*TTM)\n",
        "\n",
        "  else:\n",
        "\n",
        "    if IsCall:\n",
        "\n",
        "      return np.maximum(Forward-Strike,0)\n",
        "\n",
        "    else:\n",
        "\n",
        "      return np.maximum(-Forward+Strike,0)"
      ]
    },
    {
      "cell_type": "code",
      "execution_count": null,
      "metadata": {},
      "outputs": [],
      "source": []
    },
    {
      "cell_type": "code",
      "execution_count": 9,
      "metadata": {
        "id": "p9w6-o1kGnbV"
      },
      "outputs": [],
      "source": [
        "def BasketGeomAsian(num_asian_dates, value_date_index, risk_free_rate, num_assets, assets_vol, assets_correl, initial_maturity, price_history, IsCall):\n",
        "  '''\n",
        "  Inputs:\n",
        "  -------\n",
        "  * num_asian_dates (int): number of asian dates. Notice that this includes the initial date, which fixes the initial spot values.\n",
        "  * value_date_index (int): index, within the array of asian dates indicating the value date.\n",
        "  * risk_free_rate (float): risk free rate\n",
        "  * num_assets (int): number of underlying assets.\n",
        "  * assets_vol (array(float)): array of indiv assets vols.\n",
        "  * assets_correl (array(float, float)): matrix of correlations\n",
        "  * initial_maturity (float): maturity of the product as seen on initial spot fixing date.\n",
        "  * price_history (array(float, float)): history of fixings of the underlyings up to value date. Assets per row, time steps per column.\n",
        "  * IsCall (bool): True if call option, False if put option\n",
        "  Outputs:\n",
        "  --------\n",
        "  * Option price (float)\n",
        "  '''\n",
        "\n",
        "  init_time_array = np.linspace(0, initial_maturity, num_asian_dates)\n",
        "\n",
        "  pending_times_array = init_time_array[value_date_index+1:] - init_time_array[value_date_index]\n",
        "\n",
        "  mu = np.sum(risk_free_rate - 0.5*assets_vol*assets_vol)*np.sum(pending_times_array) / (num_assets * (num_asian_dates-1))\n",
        "\n",
        "  diag_vol = np.diag(assets_vol.reshape(-1))\n",
        "\n",
        "  cov_matrix = np.matmul(diag_vol, np.matmul(assets_correl, diag_vol))\n",
        "\n",
        "  xx, yy = np.meshgrid(pending_times_array, pending_times_array, sparse=True)\n",
        "  z = np.minimum(xx, yy)\n",
        "\n",
        "  V = np.sum(cov_matrix) * np.sum(z) / (num_assets*num_assets*(num_asian_dates-1)*(num_asian_dates-1))\n",
        "\n",
        "  Forward = np.power(np.prod(price_history[:, 1:value_date_index+1] / price_history[:,0].reshape(-1,1)),1.0/(num_assets * (num_asian_dates-1)))\n",
        "\n",
        "  Forward *= np.power(np.prod(price_history[:,value_date_index] / price_history[:,0]), (num_asian_dates-value_date_index-1)/(num_assets * (num_asian_dates-1)))\n",
        "\n",
        "  Forward *= np.exp(mu + 0.5 * V)\n",
        "\n",
        "  remaining_maturity = initial_maturity - init_time_array[value_date_index]\n",
        "\n",
        "\n",
        "  return Black(Forward, 1.0, remaining_maturity, risk_free_rate,np.sqrt(V / remaining_maturity), IsCall)\n"
      ]
    },
    {
      "cell_type": "markdown",
      "metadata": {
        "id": "Aw1DryoAPaz1"
      },
      "source": [
        "##  Comparando Simulación y Formula cerrada"
      ]
    },
    {
      "cell_type": "code",
      "execution_count": 10,
      "metadata": {},
      "outputs": [],
      "source": [
        "S_0 = np.array([1,1,1])\n",
        "num_steps = 20\n",
        "vols = np.array(sigmas).reshape(-1,1)\n",
        "risk_free_rate = 0.01\n",
        "\n",
        "\n",
        "TTM = initial_maturity = 5 #years\n",
        "value_date_index = 5 #actual step\n",
        "num_asian_dates = num_steps + 1 #Time steps + 1\n",
        "init_time_array = np.linspace(0, initial_maturity, num_asian_dates)\n",
        "\n",
        "rho = 0.1\n",
        "correl_matrix = rho = np.array(corr_matrix)\n",
        "\n",
        "num_sims = 100000\n",
        "\n",
        "num_assets = 3 #numero de activos"
      ]
    },
    {
      "cell_type": "code",
      "execution_count": 26,
      "metadata": {},
      "outputs": [],
      "source": [
        "data= np.load('Datos/Transformados/montecarlo_data.npz')\n",
        "features = data['features']\n",
        "target = data['target']"
      ]
    },
    {
      "cell_type": "code",
      "execution_count": 31,
      "metadata": {},
      "outputs": [
        {
          "name": "stdout",
          "output_type": "stream",
          "text": [
            "Prima MonteCarlo: 0.134820\n"
          ]
        }
      ],
      "source": [
        "prima = np.mean(target*np.exp(-risk_free_rate*(initial_maturity-init_time_array[value_date_index])))\n",
        "print(f'Prima MonteCarlo: {prima:.6f}')"
      ]
    },
    {
      "cell_type": "code",
      "execution_count": 28,
      "metadata": {},
      "outputs": [
        {
          "name": "stdout",
          "output_type": "stream",
          "text": [
            "Prima: 0.268351\n"
          ]
        }
      ],
      "source": [
        "features2 = features.transpose([0,2,1])\n",
        "\n",
        "price_history_mean = np.mean(features2, axis=0) \n",
        "\n",
        "prima = BasketGeomAsian(\n",
        "    num_asian_dates=num_asian_dates,\n",
        "    value_date_index=value_date_index,\n",
        "    risk_free_rate=risk_free_rate,\n",
        "    num_assets=num_assets,\n",
        "    assets_vol=vols.flatten(),\n",
        "    assets_correl=correl_matrix,\n",
        "    initial_maturity=initial_maturity,\n",
        "    price_history=price_history_mean,\n",
        "    IsCall=True\n",
        ")\n",
        "print(f\"Prima: {prima:.6f}\")"
      ]
    },
    {
      "cell_type": "code",
      "execution_count": 24,
      "metadata": {
        "id": "FGd_wwHMGqxO"
      },
      "outputs": [],
      "source": [
        "import random\n",
        "premium_20 = []\n",
        "analytics_20 = []\n",
        "for i in np.arange(1,20):\n",
        "  random.seed(77)\n",
        "  simu, payoff, premium = MonteCarlo(initial_maturity, S_0, num_sims, num_assets, num_asian_dates, i, correl_matrix,risk_free_rate, vols)\n",
        "  simu2 = simu.transpose([0,2,1])\n",
        "\n",
        "  analytic = BasketGeomAsian(num_asian_dates, i, risk_free_rate, num_assets, vols, correl_matrix, initial_maturity, simu2[1,:,:(i+1)], True)\n",
        "  premium_20.append(premium)\n",
        "  analytics_20.append(analytic)"
      ]
    },
    {
      "cell_type": "code",
      "execution_count": null,
      "metadata": {},
      "outputs": [
        {
          "data": {
            "text/plain": [
              "[0.06384726965950212,\n",
              " 0.045872519638119315,\n",
              " 0.09503492841034315,\n",
              " 0.08846036553855552,\n",
              " 0.03299451062809008,\n",
              " 0.011849503704606017,\n",
              " 0.007205320684336608,\n",
              " 0.006629915990329122,\n",
              " 0.00040750863282219097,\n",
              " 0.07412176259775584,\n",
              " 0.0014447592558892676,\n",
              " 0.023833779903298054,\n",
              " 0.0009166825180185937,\n",
              " 2.00892543931337e-15,\n",
              " 3.732858914018463e-55,\n",
              " 5.4830956460137675e-18,\n",
              " 0.11502258758102903,\n",
              " 0.3678609429237936,\n",
              " 0.0506005240264317]"
            ]
          },
          "execution_count": 25,
          "metadata": {},
          "output_type": "execute_result"
        }
      ],
      "source": [
        "analytics_20.mean"
      ]
    },
    {
      "cell_type": "code",
      "execution_count": 23,
      "metadata": {
        "colab": {
          "base_uri": "https://localhost:8080/",
          "height": 472
        },
        "id": "RXTQeGw5PvGd",
        "outputId": "4478b1de-76c1-4e20-f165-4a2565dbb9bf"
      },
      "outputs": [
        {
          "data": {
            "image/png": "[encoded data removed]",
            "text/plain": [
              "<Figure size 640x480 with 1 Axes>"
            ]
          },
          "metadata": {},
          "output_type": "display_data"
        }
      ],
      "source": [
        "import matplotlib.pyplot as plt\n",
        "plt.plot(analytics_20,\"o\", color='green', label='Formula')\n",
        "plt.plot(premium_20,\"o\", color='orange', label='MC')\n",
        "plt.legend()\n",
        "plt.title(\"Payoff\")\n",
        "plt.xlabel('Time Step')\n",
        "plt.ylabel('Payoff')\n",
        "plt.show()"
      ]
    },
    {
      "cell_type": "code",
      "execution_count": null,
      "metadata": {
        "id": "tP7pvfo4P85e"
      },
      "outputs": [],
      "source": []
    }
  ],
  "metadata": {
    "colab": {
      "provenance": []
    },
    "kernelspec": {
      "display_name": "DM_reto09",
      "language": "python",
      "name": "python3"
    },
    "language_info": {
      "codemirror_mode": {
        "name": "ipython",
        "version": 3
      },
      "file_extension": ".py",
      "mimetype": "text/x-python",
      "name": "python",
      "nbconvert_exporter": "python",
      "pygments_lexer": "ipython3",
      "version": "3.12.11"
    }
  },
  "nbformat": 4,
  "nbformat_minor": 0
}
